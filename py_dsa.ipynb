{
 "cells": [
  {
   "cell_type": "markdown",
   "metadata": {},
   "source": [
    "- #### Algorithm for finding the LCS of two given strings."
   ]
  },
  {
   "cell_type": "code",
   "execution_count": null,
   "metadata": {},
   "outputs": [],
   "source": [
    "import pandas as pd\n",
    "from IPython.display import display\n",
    "\n",
    "x=input('Enter the first string:')\n",
    "y=input('Enter the second string')\n",
    "\n",
    "a=len(x); b=len(y)\n",
    "\n",
    "r=[];  s=[]\n",
    "for i in range(a+1):\n",
    "  temp=[];  temp2=[]\n",
    "  for j in range(b+1):\n",
    "    temp.append(0); temp2.append('.')\n",
    "  r.append(temp); s.append(temp2)\n",
    "\n",
    "for i in range(1,a+1,1):\n",
    "  for j in range(1,b+1,1):\n",
    "    if(x[i-1]==y[j-1]):\n",
    "      r[i][j]=r[i-1][j-1]+1; \n",
    "      s[i][j]=\"%\"\n",
    "    elif(r[i-1][j]>=r[i][j-1]):\n",
    "      r[i][j]=r[i-1][j]\n",
    "      s[i][j]='^'\n",
    "    else:\n",
    "      r[i][j]=r[i][j-1]\n",
    "      s[i][j]='<'\n",
    "\n",
    "dfr=pd.DataFrame(r);  dfs=pd.DataFrame(s)\n",
    "print(\"This is s\\n\",dfs,\"\\n\\nThis is r\\n\",dfr)"
   ]
  }
 ],
 "metadata": {
  "kernelspec": {
   "display_name": "Python 3",
   "language": "python",
   "name": "python3"
  },
  "language_info": {
   "codemirror_mode": {
    "name": "ipython",
    "version": 3
   },
   "file_extension": ".py",
   "mimetype": "text/x-python",
   "name": "python",
   "nbconvert_exporter": "python",
   "pygments_lexer": "ipython3",
   "version": "3.11.6"
  }
 },
 "nbformat": 4,
 "nbformat_minor": 2
}
